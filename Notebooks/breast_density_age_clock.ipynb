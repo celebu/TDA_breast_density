{
 "cells": [
  {
   "cell_type": "markdown",
   "metadata": {},
   "source": [
    "# Intro and rationale\n",
    "\n",
    "Since breast density decreases with age, and is consistent over time, we want to create an algorithm that predicts the age of a patient from digital mammograms, to then compare the predicted age with the actual age."
   ]
  },
  {
   "cell_type": "markdown",
   "metadata": {},
   "source": [
    "# Data preparation: \n",
    "CC images from 500 patients with normal outcome from the OPTIMAM dataset. \n",
    "\n",
    "For a first experiment we categorise age in two groups: under 55 and over 55. We pay attention to select the same number for each group. \n",
    "\n",
    "We convert them to .png, divide them in two directories (under55 and over55), and then divide them in test, val and train subfolders.\n"
   ]
  },
  {
   "cell_type": "markdown",
   "metadata": {},
   "source": [
    "# Algorithms \n",
    "DAAR topology \n",
    "\n",
    "https://arxiv.org/pdf/2201.02295.pdf\n",
    "\n",
    "Persistent Homology for Breast Tumor Classification using Mammogram Scans"
   ]
  },
  {
   "cell_type": "code",
   "execution_count": null,
   "metadata": {},
   "outputs": [],
   "source": []
  }
 ],
 "metadata": {
  "kernelspec": {
   "display_name": "Python 3.9.7 ('TDAvenv': venv)",
   "language": "python",
   "name": "python3"
  },
  "language_info": {
   "name": "python",
   "version": "3.9.7"
  },
  "orig_nbformat": 4,
  "vscode": {
   "interpreter": {
    "hash": "1c6235938d830074f662446d9bb9514b3d323867ee9efa28faf0e3eb26a584df"
   }
  }
 },
 "nbformat": 4,
 "nbformat_minor": 2
}
