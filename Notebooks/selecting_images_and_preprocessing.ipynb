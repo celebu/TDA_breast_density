{
 "cells": [
  {
   "cell_type": "markdown",
   "metadata": {},
   "source": [
    "# Intro and rationale\n",
    "\n",
    "Since breast density decreases with age, and is consistent over time, we want to create an algorithm that predicts the age of a patient from digital mammograms, to then compare the predicted age with the actual age."
   ]
  },
  {
   "cell_type": "markdown",
   "metadata": {},
   "source": [
    "# Data preparation: \n",
    "Operational plan:\n",
    "- We select patients with normal status, normal outcome, and no malignancy in their history. \n",
    "- Make sure we take an equal number of under 55 and over 55.\n",
    "- We convert them to .png, divide them in two directories (under55 and over55).\n",
    "\n",
    "We will both explore the scores of everything all together, plotting against age, side, Mirai score? whatever we can think, and then try to categorise them in the two age groups.\n"
   ]
  },
  {
   "cell_type": "code",
   "execution_count": 72,
   "metadata": {},
   "outputs": [],
   "source": [
    "import pandas as pd \n",
    "import random"
   ]
  },
  {
   "cell_type": "code",
   "execution_count": 56,
   "metadata": {},
   "outputs": [
    {
     "name": "stderr",
     "output_type": "stream",
     "text": [
      "/home/celeste/Projects/Breast_density_MammoAI/venv/lib/python3.9/site-packages/IPython/core/interactiveshell.py:3444: DtypeWarning: Columns (6) have mixed types.Specify dtype option on import or set low_memory=False.\n",
      "  exec(code_obj, self.user_global_ns, self.user_ns)\n"
     ]
    }
   ],
   "source": [
    "## reading the selection of screening studies we saved in summary_stats_optimam.ipynb \n",
    "screen_red_df2 = pd.read_csv('~/Projects/cruk-mammoai/summaries/selected_screening_reduced.csv', dtype={\n",
    " 'Site': 'category',\n",
    " 'EpisodeStatus': 'category',\n",
    " 'EpisodeOutcome': 'category',\n",
    " 'SOPInstanceUID': 'category',\n",
    " 'NumberOfMarks': int,\n",
    " 'Manufacturer': 'category',\n",
    " 'Model': 'category',\n",
    " 'ImageLaterality': 'category',\n",
    " 'ViewPosition': 'category',\n",
    " 'LesionSide':'category', \n",
    " 'PatientAgeYears':int, \n",
    "  }, parse_dates=['StudyDate'])\n",
    "\n",
    "\n",
    "  ## reading the whole optimam dataset (to check malignancies in any point of the patients' history)\n",
    "dataset = pd.read_csv('~/Projects/cruk-mammoai/summaries/summary-devversion.csv', dtype={\n",
    " 'Site': 'category',\n",
    " 'EpisodeID': 'category',\n",
    " 'EpisodeStatus': 'category',\n",
    " 'EpisodeOutcome': 'category',\n",
    " #'EpisodeIsPostOp': bool,\n",
    " 'EpisodeType': 'category',\n",
    " 'EpisodeAction': 'category',\n",
    " 'EpisodeContainsMalignantOpinions': bool,\n",
    " 'EpisodeContainsBenignOpinions': bool,\n",
    " 'EpisodeHasEvents': bool,\n",
    " 'EventType': 'category',\n",
    " 'SeriesInstanceUID': 'category',\n",
    " 'SOPInstanceUID': 'category',\n",
    " 'NumberOfMarks': int,\n",
    " 'Manufacturer': 'category',\n",
    " 'Model': 'category',\n",
    " 'PresentationIntentType': 'category',\n",
    " 'ImageLaterality': 'category',\n",
    " 'ViewPosition': 'category',\n",
    " 'ViewModCodeValue': 'category',\n",
    " 'ViewModCodeMeaning': 'category',\n",
    " 'BodyPartThicknessMM': float,\n",
    " #'PatientAgeYears': int\n",
    "  }, parse_dates=['EpisodeSortDate', 'EpisodeOpenedDate', 'EpisodeClosedDate', 'StudyDate' ])\n",
    "\n",
    "history = pd.read_csv('~/Projects/cruk-mammoai/summaries/screening_history.csv')\n"
   ]
  },
  {
   "cell_type": "code",
   "execution_count": 57,
   "metadata": {},
   "outputs": [],
   "source": [
    "def description(dataset, ds_name):\n",
    "    \"\"\"\n",
    "    Argument: (dataframe, operational name of the dataframe)\n",
    "    They need to have fields:\n",
    "    ClientID\n",
    "    Site\n",
    "    EpisodeOutcome\n",
    "    StudyInstanceUID\n",
    "    Manufacturer\n",
    "    Model\n",
    "    PatientAgeYears\n",
    "    LesionSide\n",
    "\n",
    "    Returns: \n",
    "    descriptive stats for the dataset\n",
    "    \"\"\"\n",
    "    dataset.name = ds_name\n",
    "\n",
    "\n",
    "    number_patients = dataset['ClientID'].nunique()\n",
    "    number_studies = dataset['StudyInstanceUID'].nunique()\n",
    "    number_entries = dataset['SOPInstanceUID'].nunique()\n",
    "\n",
    "\n",
    "    print(f'In the dataset {dataset.name} there are: \\n {number_patients} unique patients,   \\n {number_studies} unique studies and \\n {number_entries} images')\n",
    "\n",
    "    print('-------------------------- \\n')\n",
    "\n",
    "    dataset.loc[(dataset.PatientAgeYears < 55),  'AgeGroup'] = '<55'\n",
    "    dataset.loc[(dataset.PatientAgeYears >= 55)& (dataset.PatientAgeYears < 65),  'AgeGroup'] = '55-65'\n",
    "    dataset.loc[(dataset.PatientAgeYears >= 65),  'AgeGroup'] = '65+'\n",
    "    age_listing = dataset.groupby(['StudyInstanceUID'], as_index=False)['AgeGroup'].agg('first')\n",
    "    age_distrib =age_listing.groupby('AgeGroup').count()\n",
    "    age_distrib \n",
    "\n",
    "\n",
    "    print(f'In the dataset {dataset.name} we have the following age counts (one count per StudyInstanceUID):')\n",
    "    print(age_distrib, '\\n')\n",
    "    print(age_distrib/age_distrib.sum())\n",
    "\n",
    "    print('-------------------------- \\n')\n",
    "\n",
    "\n",
    "    for col in dataset[['Site', 'Model', 'Manufacturer']]:\n",
    "        study_grouping = dataset.groupby(['StudyInstanceUID'], as_index=False)[col].agg('first')\n",
    "\n",
    "        distribution =study_grouping[col].value_counts(dropna=False)\n",
    "        distribution_percent = (study_grouping[col].value_counts(dropna=False))/(study_grouping[col].value_counts(dropna=False).sum())\n",
    "\n",
    "        print(f'The patients in {dataset.name} are distributed among the following {col} (one count per StudyInstanceUID):')\n",
    "        print(distribution, '\\n')\n",
    "        print(distribution_percent)\n",
    "        print('--------------------------\\n')\n",
    "    "
   ]
  },
  {
   "cell_type": "code",
   "execution_count": 58,
   "metadata": {},
   "outputs": [
    {
     "data": {
      "text/plain": [
       "7222"
      ]
     },
     "execution_count": 58,
     "metadata": {},
     "output_type": "execute_result"
    }
   ],
   "source": [
    "# make a list of all ClientID that have an MP or M  EpisodeOutcome \n",
    "# remove all entries that have ClientIDs in said list from the rest\n",
    "\n",
    "list_malignant_outcome_patients = dataset.loc[dataset['EpisodeOutcome'].isin(['MP', 'M', 'CI', 'CIP']), 'ClientID'].tolist()\n",
    "list_malignant = list(set(list_malignant_outcome_patients))\n",
    "len(list_malignant)\n"
   ]
  },
  {
   "cell_type": "code",
   "execution_count": 59,
   "metadata": {},
   "outputs": [],
   "source": [
    "normal_df = screen_red_df2[(screen_red_df2['EpisodeOutcome']=='N')&(~screen_red_df2['ClientID'].isin(list_malignant))].copy().reset_index(drop=True)"
   ]
  },
  {
   "cell_type": "markdown",
   "metadata": {},
   "source": [
    "## Selecting only complete studies"
   ]
  },
  {
   "cell_type": "code",
   "execution_count": 60,
   "metadata": {},
   "outputs": [
    {
     "data": {
      "text/plain": [
       "SOPInstanceUID\n",
       "1       105\n",
       "2       116\n",
       "3        20\n",
       "4     11451\n",
       "5       924\n",
       "6       110\n",
       "7         4\n",
       "8         5\n",
       "10        1\n",
       "Name: StudyInstanceUID, dtype: int64"
      ]
     },
     "execution_count": 60,
     "metadata": {},
     "output_type": "execute_result"
    }
   ],
   "source": [
    "# Check we have how many images we have per study (but we still might have several studies per patient)\n",
    "images_p_study = normal_df.groupby('StudyInstanceUID',  as_index=False)['SOPInstanceUID'].nunique()\n",
    "number_images = images_p_study.groupby('SOPInstanceUID')['StudyInstanceUID'].count()\n",
    "number_images"
   ]
  },
  {
   "cell_type": "code",
   "execution_count": 61,
   "metadata": {},
   "outputs": [],
   "source": [
    "# We take all the StudyInstanceUID with 4 images or more\n",
    "four_plus = images_p_study[images_p_study['SOPInstanceUID'] >= 4].copy()\n",
    "list_4_plus_images = list(set(four_plus['StudyInstanceUID'].tolist()))\n",
    "normal_4plus_df = normal_df [normal_df['StudyInstanceUID'].isin(list_4_plus_images)].copy().reset_index(drop=True)"
   ]
  },
  {
   "cell_type": "code",
   "execution_count": 62,
   "metadata": {},
   "outputs": [
    {
     "data": {
      "text/plain": [
       "SOPInstanceUID\n",
       "2        2\n",
       "3        3\n",
       "4    12490\n",
       "Name: StudyInstanceUID, dtype: int64"
      ]
     },
     "execution_count": 62,
     "metadata": {},
     "output_type": "execute_result"
    }
   ],
   "source": [
    "# Then we add a column with view-laterality\n",
    "# and delete duplicates as to remain with just 4 images for each\n",
    "\n",
    "normal_4plus_df['View+Side'] = normal_4plus_df['ViewPosition'].astype(str)+ normal_4plus_df['ImageLaterality'].astype(str)\n",
    "\n",
    "# Now we drop duplicates. We keep the first as it is the most recent\n",
    "normal_dupli_dropped = normal_4plus_df.drop_duplicates(['ClientID', 'Site', 'EpisodeStatus', 'EpisodeOutcome', 'StudyInstanceUID', 'ImageLaterality', 'ViewPosition', 'Model', 'PatientAgeYears', 'NumberOfMarks', 'LesionSide', 'View+Side'], keep='last')\n",
    "\n",
    "# Check we have how many images we have per study now (but we still might have several studies per patient)\n",
    "\n",
    "images_p_study2 = normal_dupli_dropped.groupby('StudyInstanceUID',  as_index=False)['SOPInstanceUID'].nunique()\n",
    "number_images2 = images_p_study2.groupby('SOPInstanceUID')['StudyInstanceUID'].count()\n",
    "number_images2"
   ]
  },
  {
   "cell_type": "code",
   "execution_count": 63,
   "metadata": {},
   "outputs": [],
   "source": [
    "#It seems that some studies had several duplicates but were not complete exams. \n",
    "# So now we select only the exams with that remained with exactly 4 images.\n",
    "\n",
    "# Now that we don't have duplicates, we filter out again the studies with less than 4 images\n",
    "\n",
    "four_images = images_p_study2[images_p_study2['SOPInstanceUID'] == 4].copy().reset_index(drop=True)\n",
    "list_4_images = list(set(four_images['StudyInstanceUID'].tolist()))\n",
    "\n",
    "normal_complete_studies_df = normal_dupli_dropped[normal_dupli_dropped['StudyInstanceUID'].isin(list_4_images)].copy().reset_index(drop=True)"
   ]
  },
  {
   "cell_type": "markdown",
   "metadata": {},
   "source": [
    "## One exam per patient"
   ]
  },
  {
   "cell_type": "code",
   "execution_count": 40,
   "metadata": {},
   "outputs": [
    {
     "data": {
      "text/plain": [
       "StudyInstanceUID\n",
       "1    4486\n",
       "2    3898\n",
       "3      68\n",
       "4       1\n",
       "Name: ClientID, dtype: int64"
      ]
     },
     "execution_count": 40,
     "metadata": {},
     "output_type": "execute_result"
    }
   ],
   "source": [
    "# Check how many exams we have per patient\n",
    "\n",
    "exam_pp = normal_complete_studies_df.groupby('ClientID',  as_index=False)['StudyInstanceUID'].nunique().copy()\n",
    "number_exams = exam_pp.groupby('StudyInstanceUID')['ClientID'].count()\n",
    "number_exams"
   ]
  },
  {
   "cell_type": "code",
   "execution_count": 69,
   "metadata": {},
   "outputs": [
    {
     "data": {
      "text/plain": [
       "StudyInstanceUID\n",
       "1    8453\n",
       "Name: ClientID, dtype: int64"
      ]
     },
     "execution_count": 69,
     "metadata": {},
     "output_type": "execute_result"
    }
   ],
   "source": [
    "# let us make a summary with one line per study, in ascending order so we know how to take the oldest\n",
    "summary_studies = normal_complete_studies_df[['ClientID', 'Site', 'StudyDate', 'StudyInstanceUID']].sort_values([\"ClientID\", \"StudyDate\"], ascending = (True, True)).copy().reset_index(drop=True)\n",
    "\n",
    "# then we keep one line per client, the first one (oldest)\n",
    "summary_studies_drop = summary_studies.drop_duplicates(['ClientID', 'Site'], keep='first')\n",
    "\n",
    "\n",
    "# and we save in a list the StudyInstanceUIDs\n",
    "list_selected_study = list(set(summary_studies_drop['StudyInstanceUID'].to_list()))\n",
    "\n",
    "normal_studies_df = normal_complete_studies_df[normal_complete_studies_df['StudyInstanceUID'].isin(list_selected_study)].copy().reset_index(drop=True)\n",
    "\n",
    "# now we check that in normal_studies_df we remain with just one study per patient\n",
    "\n",
    "exam_pp2 = normal_studies_df.groupby('ClientID',  as_index=False)['StudyInstanceUID'].nunique().copy()\n",
    "number_exams2 = exam_pp2.groupby('StudyInstanceUID')['ClientID'].count()\n",
    "number_exams2"
   ]
  },
  {
   "cell_type": "code",
   "execution_count": 70,
   "metadata": {},
   "outputs": [
    {
     "name": "stdout",
     "output_type": "stream",
     "text": [
      "In the dataset Normal complete studies, selected one per patient there are: \n",
      " 8453 unique patients,   \n",
      " 8453 unique studies and \n",
      " 33812 images\n",
      "-------------------------- \n",
      "\n",
      "In the dataset Normal complete studies, selected one per patient we have the following age counts (one count per StudyInstanceUID):\n",
      "          StudyInstanceUID\n",
      "AgeGroup                  \n",
      "55-65                 3749\n",
      "65+                   1372\n",
      "<55                   3332 \n",
      "\n",
      "          StudyInstanceUID\n",
      "AgeGroup                  \n",
      "55-65             0.443511\n",
      "65+               0.162309\n",
      "<55               0.394180\n",
      "-------------------------- \n",
      "\n",
      "The patients in Normal complete studies, selected one per patient are distributed among the following Site (one count per StudyInstanceUID):\n",
      "jarv    4771\n",
      "stge    3682\n",
      "Name: Site, dtype: int64 \n",
      "\n",
      "jarv    0.564415\n",
      "stge    0.435585\n",
      "Name: Site, dtype: float64\n",
      "--------------------------\n",
      "\n",
      "The patients in Normal complete studies, selected one per patient are distributed among the following Model (one count per StudyInstanceUID):\n",
      "HOLOGICLoradSelenia         7644\n",
      "GESenographe                 338\n",
      "HOLOGICSeleniaDimensions     240\n",
      "SIEMENS                      231\n",
      "Name: Model, dtype: int64 \n",
      "\n",
      "HOLOGICLoradSelenia         0.904294\n",
      "GESenographe                0.039986\n",
      "HOLOGICSeleniaDimensions    0.028392\n",
      "SIEMENS                     0.027328\n",
      "Name: Model, dtype: float64\n",
      "--------------------------\n",
      "\n",
      "The patients in Normal complete studies, selected one per patient are distributed among the following Manufacturer (one count per StudyInstanceUID):\n",
      "Hologic    7884\n",
      "GE Med.     338\n",
      "Siemens     231\n",
      "Name: Manufacturer, dtype: int64 \n",
      "\n",
      "Hologic    0.932687\n",
      "GE Med.    0.039986\n",
      "Siemens    0.027328\n",
      "Name: Manufacturer, dtype: float64\n",
      "--------------------------\n",
      "\n"
     ]
    }
   ],
   "source": [
    "description(normal_studies_df, 'Normal complete studies, selected one per patient')"
   ]
  },
  {
   "cell_type": "markdown",
   "metadata": {},
   "source": [
    "## Selecting samples per age group"
   ]
  },
  {
   "cell_type": "code",
   "execution_count": 74,
   "metadata": {},
   "outputs": [],
   "source": [
    "# Since we have only 1372 over 65 (and 3332 under 55, and 3749 in between)\n",
    "# we take 1300 from each age group\n",
    "\n",
    "normal_under_55_temp = normal_studies_df[normal_studies_df['PatientAgeYears']<55]\n",
    "list_under_55 = list(set(normal_under_55_temp['ClientID'].tolist()))\n",
    "under_55_sample = random.sample(list_under_55, 1300)\n",
    "normal_under_55_df = normal_under_55_temp[normal_under_55_temp['ClientID'].isin(under_55_sample)]\n",
    "\n",
    "normal_55_65_temp = normal_studies_df[(normal_studies_df['PatientAgeYears']>=55)&(normal_studies_df['PatientAgeYears']<65)]\n",
    "list_55_65 = list(set(normal_55_65_temp['ClientID'].tolist()))\n",
    "bet_55_65_sample= random.sample(list_55_65, 1300)\n",
    "normal_55_65_df = normal_55_65_temp[normal_55_65_temp['ClientID'].isin(bet_55_65_sample)]\n",
    "\n",
    "normal_over_65_temp = normal_studies_df[(normal_studies_df['PatientAgeYears']>=65)]\n",
    "list_over_65 = list(set(normal_over_65_temp['ClientID'].tolist()))\n",
    "over_65_sample = random.sample(list_over_65, 1300)\n",
    "normal_over_65_df = normal_over_65_temp[normal_over_65_temp['ClientID'].isin(over_65_sample)]\n",
    "\n",
    "\n"
   ]
  },
  {
   "cell_type": "markdown",
   "metadata": {},
   "source": [
    "## Saving age group datasets"
   ]
  },
  {
   "cell_type": "code",
   "execution_count": 79,
   "metadata": {},
   "outputs": [],
   "source": [
    "compression_opts_55 = dict(method='zip', archive_name='normal_under55.csv')  \n",
    "normal_under_55_df.to_csv('~/Projects/TDA_breast_density/Data/lookup/normal_under55.zip',  index=False, compression= compression_opts_55)\n",
    "\n",
    "compression_opts_55_65 = dict(method='zip', archive_name='normal_55_to_65.csv')  \n",
    "normal_55_65_df.to_csv('~/Projects/TDA_breast_density/Data/lookup/normal_55_to_65.zip',  index=False, compression= compression_opts_55_65)\n",
    "\n",
    "compression_opts_65 = dict(method='zip', archive_name='normal_over65.csv')  \n",
    "normal_over_65_df.to_csv('~/Projects/TDA_breast_density/Data/lookup/normal_over65.zip',  index=False, compression= compression_opts_65)"
   ]
  },
  {
   "cell_type": "markdown",
   "metadata": {},
   "source": [
    "## Images conversion"
   ]
  },
  {
   "cell_type": "code",
   "execution_count": 238,
   "metadata": {},
   "outputs": [],
   "source": [
    "import pydicom\n",
    "from pydicom.pixel_data_handlers.util import apply_modality_lut, apply_windowing, apply_voi_lut, apply_voi\n",
    "import os\n",
    "import cv2\n",
    "import numpy as np\n",
    "import math as ma\n",
    "import matplotlib.pyplot as plt\n",
    "import ast\n",
    "import itertools\n",
    "import operator\n",
    "from PIL import Image\n"
   ]
  },
  {
   "cell_type": "code",
   "execution_count": 239,
   "metadata": {},
   "outputs": [],
   "source": [
    "# Working directories\n",
    "OMI_DB_directory = \"/home/celeste/data8/optimam/main/image_db/sharing/omi-db/images/\" # here we have one directory per patient, each with a subdirectory for each study\n",
    "\n",
    "under_55_dir = '/home/celeste/Projects/TDA_breast_density/Data/images/normal_under55/'\n",
    "if not os.path.exists(under_55_dir):\n",
    "    os.makedirs(under_55_dir)\n",
    "    \n",
    "between_55_to_65_dir = '/home/celeste/Projects/TDA_breast_density/Data/images/normal_55_to_65/'\n",
    "if not os.path.exists(between_55_to_65_dir):\n",
    "    os.makedirs(between_55_to_65_dir)\n",
    "\n",
    "over_65_dir = '/home/celeste/Projects/TDA_breast_density/Data/images/normal_over65/'\n",
    "if not os.path.exists(over_65_dir):\n",
    "    os.makedirs(over_65_dir)"
   ]
  },
  {
   "cell_type": "code",
   "execution_count": 240,
   "metadata": {},
   "outputs": [],
   "source": [
    "normal_under55 =  pd.read_csv('~/Projects/TDA_breast_density/Data/lookup/normal_under55.csv')\n",
    "normal_55_to_65 = pd.read_csv('~/Projects/TDA_breast_density/Data/lookup/normal_55_to_65.csv')\n",
    "normal_over65 = pd.read_csv('~/Projects/TDA_breast_density/Data/lookup/normal_over65.csv')\n"
   ]
  },
  {
   "cell_type": "code",
   "execution_count": 241,
   "metadata": {},
   "outputs": [],
   "source": [
    "# making the three lists of dicoms belonging to the selected dataset\n",
    "list_paths_under_55 = OMI_DB_directory + normal_under55['ClientID'].astype(str) +  '/' + normal_under55['StudyInstanceUID'].astype(str)+ '/' + normal_under55['SOPInstanceUID'].astype(str) + '.dcm'\n",
    "list_paths_55_to_65 = OMI_DB_directory + normal_55_to_65['ClientID'].astype(str) +  '/' + normal_55_to_65['StudyInstanceUID'].astype(str)+ '/' + normal_55_to_65['SOPInstanceUID'].astype(str) + '.dcm'\n",
    "list_paths_over_65 = OMI_DB_directory + normal_over65['ClientID'].astype(str) +  '/' + normal_over65['StudyInstanceUID'].astype(str)+ '/' + normal_over65['SOPInstanceUID'].astype(str) + '.dcm'\n"
   ]
  },
  {
   "cell_type": "code",
   "execution_count": 242,
   "metadata": {},
   "outputs": [],
   "source": [
    "# ## we need to understand the sizes\n",
    "\n",
    "# list_heights_55 = []\n",
    "# list_width_55 = []\n",
    "\n",
    "# for item in list_paths_under_55[:500]:\n",
    "#     dicom = pydicom.read_file(item)\n",
    "#     img = dicom.pixel_array.astype(int)\n",
    "#     list_heights_55.append(img.shape[0])\n",
    "#     list_width_55.append(img.shape[1])\n",
    "    \n",
    "\n",
    "\n",
    "# def most_frequent(List):\n",
    "#     return max(set(List), key = List.count)\n",
    "\n",
    "# print(most_frequent(list_heights_55))\n",
    "\n",
    "    "
   ]
  },
  {
   "cell_type": "markdown",
   "metadata": {},
   "source": [
    "### Auxiliary functions for normalising and resising"
   ]
  },
  {
   "cell_type": "code",
   "execution_count": 250,
   "metadata": {},
   "outputs": [],
   "source": [
    "def img_original_raw_or_not(fn_or_dicom):\n",
    "    # Corrects the encoding (MONOCHROME) and applies the rescale slope and intercept if tags are present\n",
    "    # Using new functions from pydicom library\n",
    "    # The functions `apply_modality_lut`, `apply_voi` and `apply_windowing` \n",
    "    # return the numpy array unchanged on raw DICOMS \n",
    "    # because the tags required bu these functions are missing.\n",
    "\n",
    "    if isinstance(fn_or_dicom, str):\n",
    "        dicom = pydicom.read_file(fn_or_dicom)\n",
    "    elif isinstance(fn_or_dicom, pydicom.dataset.FileDataset):\n",
    "        dicom = fn_or_dicom\n",
    "    else:\n",
    "        raise Exception(\n",
    "            'fn_or_dicom is not a file name or dicom object. Type(fn_or_dicom)={}'.format(type(fn_or_dicom)))\n",
    "    \n",
    "    img = apply_modality_lut(dicom.pixel_array, dicom).astype(int)\n",
    "    \n",
    "    if dicom.PresentationIntentType == 'FOR PRESENTATION':\n",
    "\n",
    "        inverse_pls = False\n",
    "        if 'PresentationLUTShape' in dicom:\n",
    "            if dicom.PresentationLUTShape == 'INVERSE':\n",
    "                img = apply_windowing(img, dicom).astype(int)\n",
    "                inverse_pls = True\n",
    "\n",
    "        if inverse_pls:\n",
    "            \n",
    "            img = apply_voi(img, dicom)  ## no lut\n",
    "        else:\n",
    "            img = apply_voi_lut(img, dicom)\n",
    "\n",
    "        if 'PhotometricInterpretation' in dicom:\n",
    "            if dicom.PhotometricInterpretation == 'MONOCHROME1':\n",
    "                img = img.max() - img\n",
    "                \n",
    "        \n",
    "    elif dicom.PresentationIntentType == 'FOR PROCESSING':\n",
    "\n",
    "        inverse_pls = False\n",
    "        if 'PresentationLUTShape' in dicom:\n",
    "            if dicom.PresentationLUTShape == 'INVERSE':\n",
    "                # (0028,1050) Window Center and (0028,1051) Window Width not present\n",
    "                # so leaves the array unchanged\n",
    "                img = apply_windowing(img, dicom).astype(int)\n",
    "                inverse_pls = True\n",
    "                \n",
    "        # VOI LUT attribute required only if Presentation Intent Type (0008,0068) is FOR PRESENTATION\n",
    "        # ...so here leaves the array unchanged\n",
    "        if inverse_pls:\n",
    "            img = apply_voi(img, dicom)  ## no lut\n",
    "        else:\n",
    "            img = apply_voi_lut(img, dicom)\n",
    "        \n",
    "        # this is the only bit that does something in 'FOR PROCESSING'\n",
    "        if 'PhotometricInterpretation' in dicom:\n",
    "            if dicom.PhotometricInterpretation == 'MONOCHROME1':\n",
    "                img = img.max() - img\n",
    "        \n",
    "    # Some images have 3 channels (error images):\n",
    "    if img.ndim > 2:\n",
    "        print('WARNING: Image with more than 1 channel. Applying rgb2gray transformation')\n",
    "        # img = imgu.rgb2gray(img)\n",
    "\n",
    "\n",
    "    # print(\"This image is \" + str(dicom.PresentationIntentType) + \"; Presentation LUT shape \" + str(dicom.PresentationLUTShape) + \"; and Photometric Interpretation \" + str(dicom.PhotometricInterpretation))\n",
    "    return img.astype(int)\n",
    "\n",
    "    \n",
    "\n",
    "def img_norm_raw(fn_or_dicom, ymin=0, ymax=255):\n",
    "    # For presentation: normalizes the image to the range [ymin,ymax])\n",
    "    # For processing: removes background, windows, normalizes the image to the range [ymin,ymax]\n",
    "    # Returns: a list (numpy array, string)\n",
    "    # where the string is the filename to save it\n",
    "\n",
    "\n",
    "    if isinstance(fn_or_dicom, str):\n",
    "        dicom = pydicom.read_file(fn_or_dicom)\n",
    "    elif isinstance(fn_or_dicom, pydicom.dataset.FileDataset):\n",
    "        dicom = fn_or_dicom\n",
    "    else:\n",
    "        raise Exception(\n",
    "            'fn_or_dicom is not a file name or dicom object. Type(fn_or_dicom)={}'.format(type(fn_or_dicom)))\n",
    "    \n",
    "    img = img_original_raw_or_not(dicom)\n",
    "        \n",
    "    # Checking if the image is 'FOR PROCESSING' or 'FOR PRESENTATION'\n",
    "    if (dicom.PresentationIntentType=='FOR PRESENTATION'):\n",
    "\n",
    "        ## Normalisation \n",
    "        imgNorm = cv2.normalize(img, None, ymin, ymax, cv2.NORM_MINMAX) \n",
    "\n",
    "        return imgNorm.astype('float32')\n",
    "    \n",
    "    elif (dicom.PresentationIntentType=='FOR PROCESSING'):\n",
    "        \n",
    "        \n",
    "        img255 = (255*(img/float(np.max(img)))).astype('uint8')  \n",
    "\n",
    "\n",
    "        #removing the background\n",
    "        ret,th = cv2.threshold(img255,0,255,cv2.THRESH_BINARY+cv2.THRESH_OTSU)\n",
    "        binary = 1*(img255<ret)\n",
    "        imgm = ma.masked_array(img, mask=binary) #apply mask\n",
    "        #img1 = ma.masked_array(np.maximum(np.ones_like(imgm), imgm)), mask=binary) #log transform\n",
    "\n",
    "        ## windowing quantiles\n",
    "        myquants=mquantiles(imgm.compressed(), [0,0.1,0.25,0.5,0.75,0.85,1]).tolist()\n",
    "    \n",
    "        ## windowing\n",
    "        mymin=np.ones_like(imgm) * (myquants[2]) ##don't window white\n",
    "        #myzero=np.zeros_like(imgm)\n",
    "        \n",
    "        img2 = ma.masked_array(np.maximum(mymin, img)- myquants[2] , mask=binary) ##don't window white\n",
    "        \n",
    "        ## fill the white \n",
    "        imgb = img2.filled(np.min(img))\n",
    "        imgb = imgb.astype('float32')\n",
    "        \n",
    "        ### Normalisation \n",
    "        imgNorm = cv2.normalize(imgb, None, ymin, ymax, cv2.NORM_MINMAX) \n",
    "\n",
    "        ### Name that we will use to save it\n",
    "        filename = dicom.PatientID + dicom.ViewPosition + dicom.ImageLaterality + dicom.AcquisitionDate\n",
    "\n",
    "        return [imgNorm.astype('float32'), filename] \n",
    "    \n",
    "    else:\n",
    "        raise Exception(\n",
    "        'This dicom is neither FOR PRESENTATION nor FOR PROCESSING')\n",
    "\n",
    "\n",
    "def img_resize(img, shapeImgOut=(1024, 787), resizeMethod='span', resampleMethod='NEAREST', position='left'):\n",
    "    # It resizes the input image to the size sizeImgOut with:\n",
    "    # resizeMethod in {padding, span}\n",
    "    # The padding option resizes the longest side of the pixel array and rescale the image \n",
    "    # maintaining the original ratio. \n",
    "    # Then creates a black square and pastes the rescaled image on it, \n",
    "    # on the left handside of the square (commented code to change this behaviour).\n",
    "    # resampleMethod should be a method accepted by Image.resize:\n",
    "    # (0) PIL.Image.NEAREST\n",
    "    # (4) PIL.Image.BOX\n",
    "    # (2) PIL.Image.BILINEAR\n",
    "    # (5) PIL.Image.HAMMING\n",
    "    # (3) PIL.Image.BICUBIC\n",
    "    # (1) PIL.Image.LANCZOS\n",
    "    # position can be 'centre' (padding on both sides) or 'left'(padding on right side)\n",
    "    # returns (numpy array)\n",
    "\n",
    "    if isinstance(shapeImgOut, int):\n",
    "        # Per output quadrato:\n",
    "        # shapeImgOut = (shapeImgOut, shapeImgOut)\n",
    "\n",
    "        # the following keeps ratio if we set by default, \n",
    "        # shapeImgOut=1024 in the def.\n",
    "        # But we have different ratios in optimam\n",
    "        # we end up with images with same height and different width.\n",
    "        # shapeImgOut = (shapeImgOut,ma.floor((img.shape[1]*shapeImgOut)/img.shape[0]))\n",
    "        shapeImgOut = (shapeImgOut[0], shapeImgOut[1])\n",
    "\n",
    "    sizeImgOut = shapeImgOut[::-1]\n",
    "\n",
    "    if resizeMethod == 'padding':\n",
    "        divMax = max(img.shape[0] / shapeImgOut[0], img.shape[1] / shapeImgOut[1])\n",
    "        print(divMax)\n",
    "        sizeResize = (int(img.shape[1] / divMax), int(img.shape[0] / divMax))\n",
    "    else:\n",
    "        sizeResize = sizeImgOut\n",
    "\n",
    "\n",
    "    typeImgIn = img.dtype\n",
    "    img = Image.fromarray(img.astype(np.uint8))\n",
    "    img = img.resize(sizeResize, resample=getattr(Image, resampleMethod))\n",
    "\n",
    "    if resizeMethod == 'padding':\n",
    "        # PIL.Image.new(mode, size, color) creates a new image with the given mode and size  \n",
    "        # L is (8-bit pixels, black and white)\n",
    "        # Size is given as a (width, height)-tuple\n",
    "        # default colour is 0\n",
    "        out_img = Image.new('L', sizeImgOut)   \n",
    "        # Image.paste(im, box=None, mask=None)\n",
    "        \n",
    "        if position == 'centre':\n",
    "            out_img.paste(img, ((sizeImgOut[0] - img.size[0]) // 2, (sizeImgOut[1] - img.size[1]) // 2))\n",
    "        else:\n",
    "            out_img.paste(img, (0, 0))\n",
    "    else:\n",
    "        out_img = img\n",
    "\n",
    "    return np.array(out_img).astype(typeImgIn)"
   ]
  },
  {
   "cell_type": "code",
   "execution_count": 251,
   "metadata": {},
   "outputs": [],
   "source": [
    "example = list_paths_under_55[542]\n",
    "example2 = list_paths_under_55[1]\n",
    "example3 = list_paths_under_55[2]\n",
    "example4 = list_paths_under_55[3]"
   ]
  },
  {
   "cell_type": "code",
   "execution_count": 254,
   "metadata": {},
   "outputs": [
    {
     "data": {
      "image/png": "[encoded data removed]",
      "text/plain": [
       "<Figure size 432x288 with 1 Axes>"
      ]
     },
     "metadata": {
      "needs_background": "light"
     },
     "output_type": "display_data"
    },
    {
     "name": "stdout",
     "output_type": "stream",
     "text": [
      "Normalised and resized img shape: (1024, 787)\n"
     ]
    }
   ],
   "source": [
    "#def img_resize(img, shapeImgOut=1024, resizeMethod='span', resampleMethod='NEAREST', position='left'):\n",
    "\n",
    "resized_img = img_resize(img_norm_raw(example), shapeImgOut=(1024,787), resizeMethod='span', resampleMethod='NEAREST', position='left')\n",
    "plt.imshow(resized_img, cmap='gray')\n",
    "plt.title(\"Normalised and resized\")\n",
    "plt.show()\n",
    "print ('Normalised and resized img shape:', resized_img.shape)\n"
   ]
  },
  {
   "cell_type": "markdown",
   "metadata": {},
   "source": [
    "### Batch saving as .png"
   ]
  },
  {
   "cell_type": "code",
   "execution_count": 259,
   "metadata": {},
   "outputs": [],
   "source": [
    "def Processing(listDCM, OutputDir, shapeOut=(1024, 787)):\n",
    "    \"\"\"\n",
    "    Args: (a list of paths of .dcm images, \n",
    "    path of directory where to save output,\n",
    "    the size in pixel of the output images)\n",
    "    Returns: None (it will have saved the pixel_arrays \n",
    "    of the dicoms as png in the specified directory)\n",
    "    \"\"\"\n",
    "\n",
    "    for file in listDCM:\n",
    "        print(file)\n",
    "                \n",
    "        processed_array = img_resize(img_norm_raw(file), shapeImgOut=shapeOut)\n",
    "        image = Image.fromarray(processed_array)\n",
    "            \n",
    "        ### stacking in 3 channels - use np.stack for more flexibility\n",
    "        #image3chan = np.stack([imgb_resized]*3, axis=0)\n",
    "        #image3chan = image.convert('RGB')\n",
    "        \n",
    "        image.save(OutputDir + filename + '.png')\n",
    "        \n",
    "    return None"
   ]
  },
  {
   "cell_type": "code",
   "execution_count": 261,
   "metadata": {},
   "outputs": [
    {
     "data": {
      "text/plain": [
       "'demd27825'"
      ]
     },
     "execution_count": 261,
     "metadata": {},
     "output_type": "execute_result"
    }
   ],
   "source": [
    "list_under_55[0]"
   ]
  },
  {
   "cell_type": "code",
   "execution_count": 260,
   "metadata": {},
   "outputs": [
    {
     "name": "stdout",
     "output_type": "stream",
     "text": [
      "demd27825\n"
     ]
    },
    {
     "ename": "FileNotFoundError",
     "evalue": "[Errno 2] No such file or directory: 'demd27825'",
     "output_type": "error",
     "traceback": [
      "\u001b[0;31m---------------------------------------------------------------------------\u001b[0m",
      "\u001b[0;31mFileNotFoundError\u001b[0m                         Traceback (most recent call last)",
      "\u001b[0;32m/tmp/ipykernel_2609262/246853979.py\u001b[0m in \u001b[0;36m<module>\u001b[0;34m\u001b[0m\n\u001b[0;32m----> 1\u001b[0;31m \u001b[0mProcessing\u001b[0m\u001b[0;34m(\u001b[0m\u001b[0mlist_under_55\u001b[0m\u001b[0;34m,\u001b[0m \u001b[0munder_55_dir\u001b[0m\u001b[0;34m)\u001b[0m\u001b[0;34m\u001b[0m\u001b[0;34m\u001b[0m\u001b[0m\n\u001b[0m",
      "\u001b[0;32m/tmp/ipykernel_2609262/2663025544.py\u001b[0m in \u001b[0;36mProcessing\u001b[0;34m(listDCM, OutputDir, shapeOut)\u001b[0m\n\u001b[1;32m     11\u001b[0m         \u001b[0mprint\u001b[0m\u001b[0;34m(\u001b[0m\u001b[0mfile\u001b[0m\u001b[0;34m)\u001b[0m\u001b[0;34m\u001b[0m\u001b[0;34m\u001b[0m\u001b[0m\n\u001b[1;32m     12\u001b[0m \u001b[0;34m\u001b[0m\u001b[0m\n\u001b[0;32m---> 13\u001b[0;31m         \u001b[0mprocessed_array\u001b[0m \u001b[0;34m=\u001b[0m \u001b[0mimg_resize\u001b[0m\u001b[0;34m(\u001b[0m\u001b[0mimg_norm_raw\u001b[0m\u001b[0;34m(\u001b[0m\u001b[0mfile\u001b[0m\u001b[0;34m)\u001b[0m\u001b[0;34m,\u001b[0m \u001b[0mshapeImgOut\u001b[0m\u001b[0;34m=\u001b[0m\u001b[0mshapeOut\u001b[0m\u001b[0;34m)\u001b[0m\u001b[0;34m\u001b[0m\u001b[0;34m\u001b[0m\u001b[0m\n\u001b[0m\u001b[1;32m     14\u001b[0m         \u001b[0mimage\u001b[0m \u001b[0;34m=\u001b[0m \u001b[0mImage\u001b[0m\u001b[0;34m.\u001b[0m\u001b[0mfromarray\u001b[0m\u001b[0;34m(\u001b[0m\u001b[0mprocessed_array\u001b[0m\u001b[0;34m)\u001b[0m\u001b[0;34m\u001b[0m\u001b[0;34m\u001b[0m\u001b[0m\n\u001b[1;32m     15\u001b[0m \u001b[0;34m\u001b[0m\u001b[0m\n",
      "\u001b[0;32m/tmp/ipykernel_2609262/3318184955.py\u001b[0m in \u001b[0;36mimg_norm_raw\u001b[0;34m(fn_or_dicom, ymin, ymax)\u001b[0m\n\u001b[1;32m     76\u001b[0m \u001b[0;34m\u001b[0m\u001b[0m\n\u001b[1;32m     77\u001b[0m     \u001b[0;32mif\u001b[0m \u001b[0misinstance\u001b[0m\u001b[0;34m(\u001b[0m\u001b[0mfn_or_dicom\u001b[0m\u001b[0;34m,\u001b[0m \u001b[0mstr\u001b[0m\u001b[0;34m)\u001b[0m\u001b[0;34m:\u001b[0m\u001b[0;34m\u001b[0m\u001b[0;34m\u001b[0m\u001b[0m\n\u001b[0;32m---> 78\u001b[0;31m         \u001b[0mdicom\u001b[0m \u001b[0;34m=\u001b[0m \u001b[0mpydicom\u001b[0m\u001b[0;34m.\u001b[0m\u001b[0mread_file\u001b[0m\u001b[0;34m(\u001b[0m\u001b[0mfn_or_dicom\u001b[0m\u001b[0;34m)\u001b[0m\u001b[0;34m\u001b[0m\u001b[0;34m\u001b[0m\u001b[0m\n\u001b[0m\u001b[1;32m     79\u001b[0m     \u001b[0;32melif\u001b[0m \u001b[0misinstance\u001b[0m\u001b[0;34m(\u001b[0m\u001b[0mfn_or_dicom\u001b[0m\u001b[0;34m,\u001b[0m \u001b[0mpydicom\u001b[0m\u001b[0;34m.\u001b[0m\u001b[0mdataset\u001b[0m\u001b[0;34m.\u001b[0m\u001b[0mFileDataset\u001b[0m\u001b[0;34m)\u001b[0m\u001b[0;34m:\u001b[0m\u001b[0;34m\u001b[0m\u001b[0;34m\u001b[0m\u001b[0m\n\u001b[1;32m     80\u001b[0m         \u001b[0mdicom\u001b[0m \u001b[0;34m=\u001b[0m \u001b[0mfn_or_dicom\u001b[0m\u001b[0;34m\u001b[0m\u001b[0;34m\u001b[0m\u001b[0m\n",
      "\u001b[0;32m~/Projects/Breast_density_MammoAI/venv/lib/python3.9/site-packages/pydicom/filereader.py\u001b[0m in \u001b[0;36mdcmread\u001b[0;34m(fp, defer_size, stop_before_pixels, force, specific_tags)\u001b[0m\n\u001b[1;32m    859\u001b[0m         \u001b[0mcaller_owns_file\u001b[0m \u001b[0;34m=\u001b[0m \u001b[0;32mFalse\u001b[0m\u001b[0;34m\u001b[0m\u001b[0;34m\u001b[0m\u001b[0m\n\u001b[1;32m    860\u001b[0m         \u001b[0mlogger\u001b[0m\u001b[0;34m.\u001b[0m\u001b[0mdebug\u001b[0m\u001b[0;34m(\u001b[0m\u001b[0;34m\"Reading file '{0}'\"\u001b[0m\u001b[0;34m.\u001b[0m\u001b[0mformat\u001b[0m\u001b[0;34m(\u001b[0m\u001b[0mfp\u001b[0m\u001b[0;34m)\u001b[0m\u001b[0;34m)\u001b[0m\u001b[0;34m\u001b[0m\u001b[0;34m\u001b[0m\u001b[0m\n\u001b[0;32m--> 861\u001b[0;31m         \u001b[0mfp\u001b[0m \u001b[0;34m=\u001b[0m \u001b[0mopen\u001b[0m\u001b[0;34m(\u001b[0m\u001b[0mfp\u001b[0m\u001b[0;34m,\u001b[0m \u001b[0;34m'rb'\u001b[0m\u001b[0;34m)\u001b[0m\u001b[0;34m\u001b[0m\u001b[0;34m\u001b[0m\u001b[0m\n\u001b[0m\u001b[1;32m    862\u001b[0m     \u001b[0;32melif\u001b[0m \u001b[0mfp\u001b[0m \u001b[0;32mis\u001b[0m \u001b[0;32mNone\u001b[0m \u001b[0;32mor\u001b[0m \u001b[0;32mnot\u001b[0m \u001b[0mhasattr\u001b[0m\u001b[0;34m(\u001b[0m\u001b[0mfp\u001b[0m\u001b[0;34m,\u001b[0m \u001b[0;34m\"read\"\u001b[0m\u001b[0;34m)\u001b[0m \u001b[0;32mor\u001b[0m \u001b[0;32mnot\u001b[0m \u001b[0mhasattr\u001b[0m\u001b[0;34m(\u001b[0m\u001b[0mfp\u001b[0m\u001b[0;34m,\u001b[0m \u001b[0;34m\"seek\"\u001b[0m\u001b[0;34m)\u001b[0m\u001b[0;34m:\u001b[0m\u001b[0;34m\u001b[0m\u001b[0;34m\u001b[0m\u001b[0m\n\u001b[1;32m    863\u001b[0m         raise TypeError(\"dcmread: Expected a file path or a file-like, \"\n",
      "\u001b[0;31mFileNotFoundError\u001b[0m: [Errno 2] No such file or directory: 'demd27825'"
     ]
    }
   ],
   "source": [
    "Processing(list_paths_under_55, under_55_dir)\n",
    "\n",
    "Processing(list_paths_55_to_65, between_55_to_65_dir)\n",
    "Processing(list_paths_over_65, over_65_dir)\n"
   ]
  },
  {
   "cell_type": "code",
   "execution_count": null,
   "metadata": {},
   "outputs": [],
   "source": []
  },
  {
   "cell_type": "markdown",
   "metadata": {},
   "source": [
    "# Algorithms \n",
    "DAAR topology \n",
    "\n",
    "https://arxiv.org/pdf/2201.02295.pdf\n",
    "\n",
    "Persistent Homology for Breast Tumor Classification using Mammogram Scans"
   ]
  },
  {
   "cell_type": "code",
   "execution_count": null,
   "metadata": {},
   "outputs": [],
   "source": []
  }
 ],
 "metadata": {
  "kernelspec": {
   "display_name": "Python (venv)",
   "language": "python",
   "name": "venv"
  },
  "language_info": {
   "codemirror_mode": {
    "name": "ipython",
    "version": 3
   },
   "file_extension": ".py",
   "mimetype": "text/x-python",
   "name": "python",
   "nbconvert_exporter": "python",
   "pygments_lexer": "ipython3",
   "version": "3.9.7"
  },
  "orig_nbformat": 4,
  "vscode": {
   "interpreter": {
    "hash": "1c6235938d830074f662446d9bb9514b3d323867ee9efa28faf0e3eb26a584df"
   }
  }
 },
 "nbformat": 4,
 "nbformat_minor": 2
}
